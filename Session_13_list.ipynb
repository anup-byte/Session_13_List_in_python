{
 "cells": [
  {
   "cell_type": "code",
   "execution_count": 1,
   "id": "a3c6443c",
   "metadata": {},
   "outputs": [],
   "source": [
    "emptyList = []"
   ]
  },
  {
   "cell_type": "code",
   "execution_count": 2,
   "id": "2873f600",
   "metadata": {},
   "outputs": [
    {
     "name": "stdout",
     "output_type": "stream",
     "text": [
      "<class 'list'>\n"
     ]
    }
   ],
   "source": [
    "print(type(emptyList))"
   ]
  },
  {
   "cell_type": "code",
   "execution_count": 3,
   "id": "dd89fbc2",
   "metadata": {},
   "outputs": [
    {
     "name": "stdout",
     "output_type": "stream",
     "text": [
      "[]\n"
     ]
    }
   ],
   "source": [
    "print(emptyList)"
   ]
  },
  {
   "cell_type": "code",
   "execution_count": 4,
   "id": "62841aa5",
   "metadata": {},
   "outputs": [
    {
     "data": {
      "text/plain": [
       "[]"
      ]
     },
     "execution_count": 4,
     "metadata": {},
     "output_type": "execute_result"
    }
   ],
   "source": [
    "emptyList"
   ]
  },
  {
   "cell_type": "code",
   "execution_count": 5,
   "id": "86c02c29",
   "metadata": {},
   "outputs": [],
   "source": [
    "lst1 = [ 'one', 'two', 'three', 'four'] # list of strings"
   ]
  },
  {
   "cell_type": "code",
   "execution_count": 6,
   "id": "9d4bcfe9",
   "metadata": {},
   "outputs": [],
   "source": [
    "lst2 = [ 1, 2, 3, 4] # list of integers"
   ]
  },
  {
   "cell_type": "code",
   "execution_count": 11,
   "id": "42a73751",
   "metadata": {},
   "outputs": [],
   "source": [
    "lst3 = [[1,2], [3,4], [5,6], [7,8], 'ruchi'] # list of list"
   ]
  },
  {
   "cell_type": "code",
   "execution_count": 8,
   "id": "c6879c64",
   "metadata": {},
   "outputs": [],
   "source": [
    "lst4 = [1, 'anup', 45, 87.98]"
   ]
  },
  {
   "cell_type": "code",
   "execution_count": 9,
   "id": "a396a53f",
   "metadata": {},
   "outputs": [
    {
     "name": "stdout",
     "output_type": "stream",
     "text": [
      "[1, 'anup', 45, 87.98]\n"
     ]
    }
   ],
   "source": [
    "print(lst4)"
   ]
  },
  {
   "cell_type": "code",
   "execution_count": 12,
   "id": "fd88680b",
   "metadata": {},
   "outputs": [
    {
     "name": "stdout",
     "output_type": "stream",
     "text": [
      "[[1, 2], [3, 4], [5, 6], [7, 8], 'ruchi']\n"
     ]
    }
   ],
   "source": [
    "print(lst3)"
   ]
  },
  {
   "cell_type": "code",
   "execution_count": 13,
   "id": "775814fd",
   "metadata": {},
   "outputs": [
    {
     "data": {
      "text/plain": [
       "4"
      ]
     },
     "execution_count": 13,
     "metadata": {},
     "output_type": "execute_result"
    }
   ],
   "source": [
    "len(lst1)"
   ]
  },
  {
   "cell_type": "code",
   "execution_count": 14,
   "id": "42fba670",
   "metadata": {},
   "outputs": [
    {
     "data": {
      "text/plain": [
       "5"
      ]
     },
     "execution_count": 14,
     "metadata": {},
     "output_type": "execute_result"
    }
   ],
   "source": [
    "len(lst3)"
   ]
  },
  {
   "cell_type": "code",
   "execution_count": 15,
   "id": "e8820540",
   "metadata": {},
   "outputs": [
    {
     "data": {
      "text/plain": [
       "['one', 'two', 'three', 'four']"
      ]
     },
     "execution_count": 15,
     "metadata": {},
     "output_type": "execute_result"
    }
   ],
   "source": [
    "# List Append\n",
    "lst1"
   ]
  },
  {
   "cell_type": "code",
   "execution_count": 16,
   "id": "6d6ca284",
   "metadata": {},
   "outputs": [],
   "source": [
    "lst1.append('five')"
   ]
  },
  {
   "cell_type": "code",
   "execution_count": 17,
   "id": "0c2a2da8",
   "metadata": {},
   "outputs": [
    {
     "data": {
      "text/plain": [
       "['one', 'two', 'three', 'four', 'five']"
      ]
     },
     "execution_count": 17,
     "metadata": {},
     "output_type": "execute_result"
    }
   ],
   "source": [
    "lst1"
   ]
  },
  {
   "cell_type": "code",
   "execution_count": 19,
   "id": "4bdee0e1",
   "metadata": {},
   "outputs": [],
   "source": [
    "# List Insert\n",
    "lst1.insert(2, 'AI')"
   ]
  },
  {
   "cell_type": "code",
   "execution_count": 20,
   "id": "da23544a",
   "metadata": {},
   "outputs": [
    {
     "data": {
      "text/plain": [
       "['one', 'two', 'AI', 'three', 'four', 'five']"
      ]
     },
     "execution_count": 20,
     "metadata": {},
     "output_type": "execute_result"
    }
   ],
   "source": [
    "lst1"
   ]
  },
  {
   "cell_type": "code",
   "execution_count": 21,
   "id": "e921b22d",
   "metadata": {},
   "outputs": [
    {
     "data": {
      "text/plain": [
       "['one', 'two', 'AI', 'three', 'four', 'five']"
      ]
     },
     "execution_count": 21,
     "metadata": {},
     "output_type": "execute_result"
    }
   ],
   "source": [
    "lst1"
   ]
  },
  {
   "cell_type": "code",
   "execution_count": 22,
   "id": "6f9dafed",
   "metadata": {},
   "outputs": [],
   "source": [
    "lst1.remove('AI')"
   ]
  },
  {
   "cell_type": "code",
   "execution_count": 23,
   "id": "c856182c",
   "metadata": {},
   "outputs": [
    {
     "data": {
      "text/plain": [
       "['one', 'two', 'three', 'four', 'five']"
      ]
     },
     "execution_count": 23,
     "metadata": {},
     "output_type": "execute_result"
    }
   ],
   "source": [
    "lst1"
   ]
  },
  {
   "cell_type": "code",
   "execution_count": 24,
   "id": "47a1800a",
   "metadata": {},
   "outputs": [],
   "source": [
    "lst1.append('two')"
   ]
  },
  {
   "cell_type": "code",
   "execution_count": 25,
   "id": "fee214e0",
   "metadata": {},
   "outputs": [
    {
     "data": {
      "text/plain": [
       "['one', 'two', 'three', 'four', 'five', 'two']"
      ]
     },
     "execution_count": 25,
     "metadata": {},
     "output_type": "execute_result"
    }
   ],
   "source": [
    "lst1"
   ]
  },
  {
   "cell_type": "code",
   "execution_count": 26,
   "id": "97c1b8ca",
   "metadata": {},
   "outputs": [],
   "source": [
    "lst1.remove('two')"
   ]
  },
  {
   "cell_type": "code",
   "execution_count": 27,
   "id": "10376734",
   "metadata": {},
   "outputs": [
    {
     "data": {
      "text/plain": [
       "['one', 'three', 'four', 'five', 'two']"
      ]
     },
     "execution_count": 27,
     "metadata": {},
     "output_type": "execute_result"
    }
   ],
   "source": [
    "lst1"
   ]
  },
  {
   "cell_type": "code",
   "execution_count": 28,
   "id": "9d2ba3d1",
   "metadata": {},
   "outputs": [
    {
     "data": {
      "text/plain": [
       "['one', 'three', 'four', 'five', 'two']"
      ]
     },
     "execution_count": 28,
     "metadata": {},
     "output_type": "execute_result"
    }
   ],
   "source": [
    "lst1"
   ]
  },
  {
   "cell_type": "code",
   "execution_count": 29,
   "id": "3ef946a6",
   "metadata": {},
   "outputs": [
    {
     "data": {
      "text/plain": [
       "[1, 2, 3, 4]"
      ]
     },
     "execution_count": 29,
     "metadata": {},
     "output_type": "execute_result"
    }
   ],
   "source": [
    "lst2"
   ]
  },
  {
   "cell_type": "code",
   "execution_count": 32,
   "id": "8ebd708f",
   "metadata": {},
   "outputs": [
    {
     "ename": "SyntaxError",
     "evalue": "unmatched ')' (1250246698.py, line 2)",
     "output_type": "error",
     "traceback": [
      "\u001b[0;36m  Cell \u001b[0;32mIn[32], line 2\u001b[0;36m\u001b[0m\n\u001b[0;31m    lst = lst1.append(lst2))\u001b[0m\n\u001b[0m                           ^\u001b[0m\n\u001b[0;31mSyntaxError\u001b[0m\u001b[0;31m:\u001b[0m unmatched ')'\n"
     ]
    }
   ],
   "source": [
    "# append\n",
    "lst = lst1.append(lst2))"
   ]
  },
  {
   "cell_type": "code",
   "execution_count": 34,
   "id": "0b53ce22",
   "metadata": {},
   "outputs": [
    {
     "data": {
      "text/plain": [
       "[1, 2, 3, 4]"
      ]
     },
     "execution_count": 34,
     "metadata": {},
     "output_type": "execute_result"
    }
   ],
   "source": [
    "lst2"
   ]
  },
  {
   "cell_type": "code",
   "execution_count": 35,
   "id": "d03a1fd2",
   "metadata": {},
   "outputs": [],
   "source": [
    "lst5 = [5,6,7,8]"
   ]
  },
  {
   "cell_type": "code",
   "execution_count": 37,
   "id": "35861844",
   "metadata": {},
   "outputs": [],
   "source": [
    "lst6 = lst2.append(lst5)"
   ]
  },
  {
   "cell_type": "code",
   "execution_count": 39,
   "id": "1e1c4561",
   "metadata": {},
   "outputs": [
    {
     "name": "stdout",
     "output_type": "stream",
     "text": [
      "None\n"
     ]
    }
   ],
   "source": [
    "print(lst6)"
   ]
  },
  {
   "cell_type": "code",
   "execution_count": null,
   "id": "2fb53473",
   "metadata": {},
   "outputs": [],
   "source": [
    "lst10 = ['one', 'two', 'three', 'four']\n",
    "\n",
    "lst11 = ['five', 'six']\n",
    "\n",
    "#append \n",
    "lst10.append(lst11)\n",
    "\n",
    "print(lst)"
   ]
  },
  {
   "cell_type": "code",
   "execution_count": 40,
   "id": "c42b9631",
   "metadata": {},
   "outputs": [
    {
     "data": {
      "text/plain": [
       "[1, 2, 3, 4, [5, 6, 7, 8], [5, 6, 7, 8]]"
      ]
     },
     "execution_count": 40,
     "metadata": {},
     "output_type": "execute_result"
    }
   ],
   "source": [
    "lst2"
   ]
  },
  {
   "cell_type": "code",
   "execution_count": 41,
   "id": "b7c4f688",
   "metadata": {},
   "outputs": [],
   "source": [
    "lst7 = [1,2,3,4]\n",
    "lst8 = [5,6,7,8]\n",
    "lst7.append(lst8)"
   ]
  },
  {
   "cell_type": "code",
   "execution_count": 42,
   "id": "fa092267",
   "metadata": {},
   "outputs": [
    {
     "data": {
      "text/plain": [
       "[1, 2, 3, 4, [5, 6, 7, 8]]"
      ]
     },
     "execution_count": 42,
     "metadata": {},
     "output_type": "execute_result"
    }
   ],
   "source": [
    "lst7"
   ]
  },
  {
   "cell_type": "code",
   "execution_count": 43,
   "id": "a1b32753",
   "metadata": {},
   "outputs": [],
   "source": [
    "lst1 = [ 'one', 'two', 'three', 'four']\n",
    "lst2 = [ 1, 2, 3, 4]\n",
    "lst1.extend(lst2)"
   ]
  },
  {
   "cell_type": "code",
   "execution_count": 45,
   "id": "fcad7d71",
   "metadata": {},
   "outputs": [
    {
     "data": {
      "text/plain": [
       "['one', 'two', 'three', 'four', 1, 2, 3, 4]"
      ]
     },
     "execution_count": 45,
     "metadata": {},
     "output_type": "execute_result"
    }
   ],
   "source": [
    "lst1"
   ]
  },
  {
   "cell_type": "code",
   "execution_count": 46,
   "id": "00c87262",
   "metadata": {},
   "outputs": [],
   "source": [
    "lst3 = [[1,2], [3,4], [5,6], [7,8], 'ruchi'] # list of list"
   ]
  },
  {
   "cell_type": "code",
   "execution_count": 48,
   "id": "f3ba24a9",
   "metadata": {},
   "outputs": [],
   "source": [
    "lst1.extend(lst3)"
   ]
  },
  {
   "cell_type": "code",
   "execution_count": 49,
   "id": "1448eb2c",
   "metadata": {},
   "outputs": [
    {
     "data": {
      "text/plain": [
       "['one',\n",
       " 'two',\n",
       " 'three',\n",
       " 'four',\n",
       " 1,\n",
       " 2,\n",
       " 3,\n",
       " 4,\n",
       " [1, 2],\n",
       " [3, 4],\n",
       " [5, 6],\n",
       " [7, 8],\n",
       " 'ruchi']"
      ]
     },
     "execution_count": 49,
     "metadata": {},
     "output_type": "execute_result"
    }
   ],
   "source": [
    "lst1"
   ]
  },
  {
   "cell_type": "code",
   "execution_count": 50,
   "id": "3766ce11",
   "metadata": {},
   "outputs": [
    {
     "data": {
      "text/plain": [
       "['one',\n",
       " 'two',\n",
       " 'three',\n",
       " 'four',\n",
       " 1,\n",
       " 2,\n",
       " 3,\n",
       " 4,\n",
       " [1, 2],\n",
       " [3, 4],\n",
       " [5, 6],\n",
       " [7, 8],\n",
       " 'ruchi']"
      ]
     },
     "execution_count": 50,
     "metadata": {},
     "output_type": "execute_result"
    }
   ],
   "source": [
    "lst1"
   ]
  },
  {
   "cell_type": "code",
   "execution_count": 51,
   "id": "c17bfda2",
   "metadata": {},
   "outputs": [],
   "source": [
    "del lst1[1]"
   ]
  },
  {
   "cell_type": "code",
   "execution_count": 52,
   "id": "58e2db01",
   "metadata": {},
   "outputs": [
    {
     "data": {
      "text/plain": [
       "['one', 'three', 'four', 1, 2, 3, 4, [1, 2], [3, 4], [5, 6], [7, 8], 'ruchi']"
      ]
     },
     "execution_count": 52,
     "metadata": {},
     "output_type": "execute_result"
    }
   ],
   "source": [
    "lst1"
   ]
  },
  {
   "cell_type": "code",
   "execution_count": 53,
   "id": "a5583c50",
   "metadata": {},
   "outputs": [],
   "source": [
    "del lst1[9]"
   ]
  },
  {
   "cell_type": "code",
   "execution_count": 54,
   "id": "93167c12",
   "metadata": {},
   "outputs": [
    {
     "data": {
      "text/plain": [
       "['one', 'three', 'four', 1, 2, 3, 4, [1, 2], [3, 4], [7, 8], 'ruchi']"
      ]
     },
     "execution_count": 54,
     "metadata": {},
     "output_type": "execute_result"
    }
   ],
   "source": [
    "lst1"
   ]
  },
  {
   "cell_type": "code",
   "execution_count": 55,
   "id": "91c6067e",
   "metadata": {},
   "outputs": [
    {
     "data": {
      "text/plain": [
       "'ruchi'"
      ]
     },
     "execution_count": 55,
     "metadata": {},
     "output_type": "execute_result"
    }
   ],
   "source": [
    "#pop\n",
    "\n",
    "lst1.pop()"
   ]
  },
  {
   "cell_type": "code",
   "execution_count": 56,
   "id": "54a84ec5",
   "metadata": {},
   "outputs": [
    {
     "data": {
      "text/plain": [
       "['one', 'three', 'four', 1, 2, 3, 4, [1, 2], [3, 4], [7, 8]]"
      ]
     },
     "execution_count": 56,
     "metadata": {},
     "output_type": "execute_result"
    }
   ],
   "source": [
    "lst1"
   ]
  },
  {
   "cell_type": "code",
   "execution_count": 57,
   "id": "71889c96",
   "metadata": {},
   "outputs": [
    {
     "data": {
      "text/plain": [
       "[7, 8]"
      ]
     },
     "execution_count": 57,
     "metadata": {},
     "output_type": "execute_result"
    }
   ],
   "source": [
    "lst1.pop()"
   ]
  },
  {
   "cell_type": "code",
   "execution_count": 58,
   "id": "966b10bf",
   "metadata": {},
   "outputs": [
    {
     "data": {
      "text/plain": [
       "['one', 'three', 'four', 1, 2, 3, 4, [1, 2], [3, 4]]"
      ]
     },
     "execution_count": 58,
     "metadata": {},
     "output_type": "execute_result"
    }
   ],
   "source": [
    "lst1"
   ]
  },
  {
   "cell_type": "code",
   "execution_count": 59,
   "id": "e1168f32",
   "metadata": {},
   "outputs": [
    {
     "data": {
      "text/plain": [
       "'three'"
      ]
     },
     "execution_count": 59,
     "metadata": {},
     "output_type": "execute_result"
    }
   ],
   "source": [
    "lst1.pop(1)"
   ]
  },
  {
   "cell_type": "code",
   "execution_count": 60,
   "id": "aa6c72ef",
   "metadata": {},
   "outputs": [
    {
     "data": {
      "text/plain": [
       "['one', 'four', 1, 2, 3, 4, [1, 2], [3, 4]]"
      ]
     },
     "execution_count": 60,
     "metadata": {},
     "output_type": "execute_result"
    }
   ],
   "source": [
    "lst1"
   ]
  },
  {
   "cell_type": "code",
   "execution_count": 61,
   "id": "5df5d371",
   "metadata": {},
   "outputs": [
    {
     "data": {
      "text/plain": [
       "'one'"
      ]
     },
     "execution_count": 61,
     "metadata": {},
     "output_type": "execute_result"
    }
   ],
   "source": [
    "lst1.pop(0)"
   ]
  },
  {
   "cell_type": "code",
   "execution_count": 62,
   "id": "f2ba8291",
   "metadata": {},
   "outputs": [
    {
     "data": {
      "text/plain": [
       "['four', 1, 2, 3, 4, [1, 2], [3, 4]]"
      ]
     },
     "execution_count": 62,
     "metadata": {},
     "output_type": "execute_result"
    }
   ],
   "source": [
    "lst1"
   ]
  },
  {
   "cell_type": "code",
   "execution_count": 64,
   "id": "b3065e37",
   "metadata": {},
   "outputs": [
    {
     "name": "stdout",
     "output_type": "stream",
     "text": [
      "element present\n",
      "element not present\n"
     ]
    }
   ],
   "source": [
    "lst1 = [ 'one', 'two', 'three', 'four']\n",
    "\n",
    "if 'two' in lst1:\n",
    "    print(\"element present\")\n",
    "    \n",
    "if 'six' not in lst1:\n",
    "    print(\"element not present\")"
   ]
  },
  {
   "cell_type": "code",
   "execution_count": 65,
   "id": "de4e1e18",
   "metadata": {},
   "outputs": [
    {
     "data": {
      "text/plain": [
       "True"
      ]
     },
     "execution_count": 65,
     "metadata": {},
     "output_type": "execute_result"
    }
   ],
   "source": [
    "'two' in lst1"
   ]
  },
  {
   "cell_type": "code",
   "execution_count": 66,
   "id": "49e189ff",
   "metadata": {},
   "outputs": [
    {
     "data": {
      "text/plain": [
       "False"
      ]
     },
     "execution_count": 66,
     "metadata": {},
     "output_type": "execute_result"
    }
   ],
   "source": [
    "'six' in lst1"
   ]
  },
  {
   "cell_type": "code",
   "execution_count": 67,
   "id": "60de0ff6",
   "metadata": {},
   "outputs": [
    {
     "data": {
      "text/plain": [
       "True"
      ]
     },
     "execution_count": 67,
     "metadata": {},
     "output_type": "execute_result"
    }
   ],
   "source": [
    "'six' not in lst1"
   ]
  },
  {
   "cell_type": "code",
   "execution_count": 68,
   "id": "235fa12a",
   "metadata": {},
   "outputs": [
    {
     "name": "stdout",
     "output_type": "stream",
     "text": [
      "['four', 'three', 'two', 'one']\n"
     ]
    }
   ],
   "source": [
    "# reverse\n",
    "\n",
    "lst1 = [ 'one', 'two', 'three', 'four']\n",
    "\n",
    "lst1.reverse()\n",
    "\n",
    "print(lst1)\n",
    "\n"
   ]
  },
  {
   "cell_type": "code",
   "execution_count": 69,
   "id": "df63a402",
   "metadata": {},
   "outputs": [],
   "source": [
    "lst1.reverse()"
   ]
  },
  {
   "cell_type": "code",
   "execution_count": 70,
   "id": "42827ea3",
   "metadata": {},
   "outputs": [
    {
     "data": {
      "text/plain": [
       "['one', 'two', 'three', 'four']"
      ]
     },
     "execution_count": 70,
     "metadata": {},
     "output_type": "execute_result"
    }
   ],
   "source": [
    "lst1"
   ]
  },
  {
   "cell_type": "code",
   "execution_count": 81,
   "id": "bd59d6cb",
   "metadata": {},
   "outputs": [],
   "source": [
    "# list sorting\n",
    "\n",
    "number = [3, 6, 2, 11, 87, 106,27, 96, 5]\n",
    "\n",
    "sorted_lst = sorted(number, reverse = False)"
   ]
  },
  {
   "cell_type": "code",
   "execution_count": 82,
   "id": "5f25de08",
   "metadata": {},
   "outputs": [
    {
     "data": {
      "text/plain": [
       "[2, 3, 5, 6, 11, 27, 87, 96, 106]"
      ]
     },
     "execution_count": 82,
     "metadata": {},
     "output_type": "execute_result"
    }
   ],
   "source": [
    "sorted_lst"
   ]
  },
  {
   "cell_type": "code",
   "execution_count": 83,
   "id": "a31b7b11",
   "metadata": {},
   "outputs": [],
   "source": [
    "sorted_lst = sorted(number, reverse = True)"
   ]
  },
  {
   "cell_type": "code",
   "execution_count": 84,
   "id": "30bb9486",
   "metadata": {},
   "outputs": [
    {
     "data": {
      "text/plain": [
       "[106, 96, 87, 27, 11, 6, 5, 3, 2]"
      ]
     },
     "execution_count": 84,
     "metadata": {},
     "output_type": "execute_result"
    }
   ],
   "source": [
    "sorted_lst"
   ]
  },
  {
   "cell_type": "code",
   "execution_count": 87,
   "id": "d4c1ccdf",
   "metadata": {},
   "outputs": [
    {
     "ename": "TypeError",
     "evalue": "'<' not supported between instances of 'str' and 'int'",
     "output_type": "error",
     "traceback": [
      "\u001b[0;31m---------------------------------------------------------------------------\u001b[0m",
      "\u001b[0;31mTypeError\u001b[0m                                 Traceback (most recent call last)",
      "Cell \u001b[0;32mIn[87], line 2\u001b[0m\n\u001b[1;32m      1\u001b[0m lst \u001b[38;5;241m=\u001b[39m [\u001b[38;5;241m1\u001b[39m, \u001b[38;5;241m12\u001b[39m, \u001b[38;5;124m'\u001b[39m\u001b[38;5;124ms\u001b[39m\u001b[38;5;124m'\u001b[39m, \u001b[38;5;124m'\u001b[39m\u001b[38;5;124mp\u001b[39m\u001b[38;5;124m'\u001b[39m, \u001b[38;5;241m20\u001b[39m]\n\u001b[0;32m----> 2\u001b[0m \u001b[38;5;28mprint\u001b[39m(lst\u001b[38;5;241m.\u001b[39msort())\n",
      "\u001b[0;31mTypeError\u001b[0m: '<' not supported between instances of 'str' and 'int'"
     ]
    }
   ],
   "source": [
    "lst = [1, 12, 's', 'p', 20]\n",
    "print(lst.sort())"
   ]
  },
  {
   "cell_type": "code",
   "execution_count": 91,
   "id": "a22e4124",
   "metadata": {},
   "outputs": [],
   "source": [
    "lst = ['d', 'g', 'a', 'h']\n",
    "lst.sort()"
   ]
  },
  {
   "cell_type": "code",
   "execution_count": 92,
   "id": "920ca0b4",
   "metadata": {},
   "outputs": [
    {
     "data": {
      "text/plain": [
       "['a', 'd', 'g', 'h']"
      ]
     },
     "execution_count": 92,
     "metadata": {},
     "output_type": "execute_result"
    }
   ],
   "source": [
    "lst"
   ]
  },
  {
   "cell_type": "code",
   "execution_count": 93,
   "id": "16323b71",
   "metadata": {},
   "outputs": [],
   "source": [
    "lst = ['delhi', 'Mumbai', 'pune', 'Ap']\n",
    "lst.sort()"
   ]
  },
  {
   "cell_type": "code",
   "execution_count": 94,
   "id": "4aa134a3",
   "metadata": {},
   "outputs": [
    {
     "data": {
      "text/plain": [
       "['Ap', 'Mumbai', 'delhi', 'pune']"
      ]
     },
     "execution_count": 94,
     "metadata": {},
     "output_type": "execute_result"
    }
   ],
   "source": [
    "lst"
   ]
  },
  {
   "cell_type": "code",
   "execution_count": 95,
   "id": "888fdf73",
   "metadata": {},
   "outputs": [
    {
     "data": {
      "text/plain": [
       "['ap', 'delhi', 'mumbai', 'pune']"
      ]
     },
     "execution_count": 95,
     "metadata": {},
     "output_type": "execute_result"
    }
   ],
   "source": [
    "lst = ['delhi', 'mumbai', 'pune', 'ap']\n",
    "lst.sort()\n",
    "lst"
   ]
  },
  {
   "cell_type": "code",
   "execution_count": 96,
   "id": "73362834",
   "metadata": {},
   "outputs": [
    {
     "data": {
      "text/plain": [
       "['Ap', 'Delhi', 'Mumbai', 'Pune']"
      ]
     },
     "execution_count": 96,
     "metadata": {},
     "output_type": "execute_result"
    }
   ],
   "source": [
    "lst = ['Delhi', 'Mumbai', 'Pune', 'Ap']\n",
    "lst.sort()\n",
    "lst"
   ]
  },
  {
   "cell_type": "code",
   "execution_count": 97,
   "id": "79d04983",
   "metadata": {},
   "outputs": [
    {
     "name": "stdout",
     "output_type": "stream",
     "text": [
      "['Welcome', 'Mr.', 'Saddam', 'Hussain', 'To', 'AI', 'Ki', 'Paathshala']\n"
     ]
    }
   ],
   "source": [
    "#String Split\n",
    "s = \"Welcome Mr. Saddam Hussain To AI Ki Paathshala\"\n",
    "split_s = s.split(' ')\n",
    "print(split_s)"
   ]
  },
  {
   "cell_type": "code",
   "execution_count": 99,
   "id": "8c5b7433",
   "metadata": {},
   "outputs": [
    {
     "name": "stdout",
     "output_type": "stream",
     "text": [
      "['one', 'two', 'three', 'four', 'five']\n"
     ]
    }
   ],
   "source": [
    "s1 = \"one,two,three,four,five\"\n",
    "split_s1 = s1.split(',')\n",
    "print(split_s1)"
   ]
  },
  {
   "cell_type": "code",
   "execution_count": 100,
   "id": "49986d72",
   "metadata": {},
   "outputs": [
    {
     "name": "stdout",
     "output_type": "stream",
     "text": [
      "10\n"
     ]
    }
   ],
   "source": [
    "# List Indexing\n",
    "\n",
    "lst1 = [\"one\", 7, 9, 10, 87, 56.87]\n",
    "\n",
    "print(lst1[3])"
   ]
  },
  {
   "cell_type": "code",
   "execution_count": 101,
   "id": "039ddf1e",
   "metadata": {},
   "outputs": [
    {
     "data": {
      "text/plain": [
       "87"
      ]
     },
     "execution_count": 101,
     "metadata": {},
     "output_type": "execute_result"
    }
   ],
   "source": [
    "lst1[4]"
   ]
  },
  {
   "cell_type": "code",
   "execution_count": 102,
   "id": "f8ffc75d",
   "metadata": {},
   "outputs": [
    {
     "data": {
      "text/plain": [
       "87"
      ]
     },
     "execution_count": 102,
     "metadata": {},
     "output_type": "execute_result"
    }
   ],
   "source": [
    "lst1[-2]"
   ]
  },
  {
   "cell_type": "code",
   "execution_count": 105,
   "id": "d6640b8b",
   "metadata": {},
   "outputs": [
    {
     "name": "stdout",
     "output_type": "stream",
     "text": [
      "[10, 20, 30, 40]\n"
     ]
    }
   ],
   "source": [
    "#list Slicing\n",
    "\n",
    "number = [10, 20, 30, 40, 50, 60, 70 , 80, 100]\n",
    "\n",
    "# print from index 0 to index 3\n",
    "\n",
    "print(number[0:4])"
   ]
  },
  {
   "cell_type": "code",
   "execution_count": 108,
   "id": "38af5400",
   "metadata": {},
   "outputs": [
    {
     "data": {
      "text/plain": [
       "[10, 20, 30, 40, 50, 60, 70, 80, 100]"
      ]
     },
     "execution_count": 108,
     "metadata": {},
     "output_type": "execute_result"
    }
   ],
   "source": [
    "number[:]"
   ]
  },
  {
   "cell_type": "code",
   "execution_count": 109,
   "id": "18ad67a2",
   "metadata": {},
   "outputs": [
    {
     "data": {
      "text/plain": [
       "[10, 30, 50, 70, 100]"
      ]
     },
     "execution_count": 109,
     "metadata": {},
     "output_type": "execute_result"
    }
   ],
   "source": [
    "# alternate value in a list\n",
    "\n",
    "number[::2]"
   ]
  },
  {
   "cell_type": "code",
   "execution_count": 110,
   "id": "0fc088fa",
   "metadata": {},
   "outputs": [
    {
     "data": {
      "text/plain": [
       "[30, 50, 70, 100]"
      ]
     },
     "execution_count": 110,
     "metadata": {},
     "output_type": "execute_result"
    }
   ],
   "source": [
    "number[2::2]"
   ]
  },
  {
   "cell_type": "code",
   "execution_count": 111,
   "id": "4899ef84",
   "metadata": {},
   "outputs": [
    {
     "data": {
      "text/plain": [
       "[50, 60, 70, 80]"
      ]
     },
     "execution_count": 111,
     "metadata": {},
     "output_type": "execute_result"
    }
   ],
   "source": [
    "number[4:8]"
   ]
  },
  {
   "cell_type": "code",
   "execution_count": 112,
   "id": "bee2afa7",
   "metadata": {},
   "outputs": [
    {
     "data": {
      "text/plain": [
       "100"
      ]
     },
     "execution_count": 112,
     "metadata": {},
     "output_type": "execute_result"
    }
   ],
   "source": [
    "number[-1]"
   ]
  },
  {
   "cell_type": "code",
   "execution_count": 113,
   "id": "01db7dcf",
   "metadata": {},
   "outputs": [
    {
     "data": {
      "text/plain": [
       "30"
      ]
     },
     "execution_count": 113,
     "metadata": {},
     "output_type": "execute_result"
    }
   ],
   "source": [
    "number[-7]"
   ]
  },
  {
   "cell_type": "code",
   "execution_count": 114,
   "id": "92d26c6d",
   "metadata": {},
   "outputs": [
    {
     "data": {
      "text/plain": [
       "10"
      ]
     },
     "execution_count": 114,
     "metadata": {},
     "output_type": "execute_result"
    }
   ],
   "source": [
    "number[-9]"
   ]
  },
  {
   "cell_type": "code",
   "execution_count": 116,
   "id": "c383afac",
   "metadata": {},
   "outputs": [
    {
     "data": {
      "text/plain": [
       "[80, 70, 60, 50, 40]"
      ]
     },
     "execution_count": 116,
     "metadata": {},
     "output_type": "execute_result"
    }
   ],
   "source": [
    "number[-2:-7:-1]"
   ]
  },
  {
   "cell_type": "code",
   "execution_count": 117,
   "id": "df83f620",
   "metadata": {},
   "outputs": [
    {
     "data": {
      "text/plain": [
       "[100, 60, 30]"
      ]
     },
     "execution_count": 117,
     "metadata": {},
     "output_type": "execute_result"
    }
   ],
   "source": [
    "number[-1:-9:-3]"
   ]
  },
  {
   "cell_type": "code",
   "execution_count": 118,
   "id": "073991b2",
   "metadata": {},
   "outputs": [
    {
     "data": {
      "text/plain": [
       "[10, 20, 30, 40, 50, 60, 70, 80, 100]"
      ]
     },
     "execution_count": 118,
     "metadata": {},
     "output_type": "execute_result"
    }
   ],
   "source": [
    "# List is Mutable\n",
    "\n",
    "number"
   ]
  },
  {
   "cell_type": "code",
   "execution_count": 119,
   "id": "84d7cdd1",
   "metadata": {},
   "outputs": [],
   "source": [
    "number[2] = \"Anup\""
   ]
  },
  {
   "cell_type": "code",
   "execution_count": 120,
   "id": "8200746b",
   "metadata": {},
   "outputs": [
    {
     "data": {
      "text/plain": [
       "[10, 20, 'Anup', 40, 50, 60, 70, 80, 100]"
      ]
     },
     "execution_count": 120,
     "metadata": {},
     "output_type": "execute_result"
    }
   ],
   "source": [
    "number"
   ]
  },
  {
   "cell_type": "code",
   "execution_count": 121,
   "id": "b5f7b6fa",
   "metadata": {},
   "outputs": [],
   "source": [
    "my_list = ['Rakhi', 'Sister', 'brother']"
   ]
  },
  {
   "cell_type": "code",
   "execution_count": 122,
   "id": "f0cd1f2f",
   "metadata": {},
   "outputs": [
    {
     "data": {
      "text/plain": [
       "[10, 20, 'Anup', 40, 50, 60, 70, 80, 100, 'Rakhi', 'Sister', 'brother']"
      ]
     },
     "execution_count": 122,
     "metadata": {},
     "output_type": "execute_result"
    }
   ],
   "source": [
    "number + my_list"
   ]
  },
  {
   "cell_type": "code",
   "execution_count": 123,
   "id": "30571651",
   "metadata": {},
   "outputs": [
    {
     "data": {
      "text/plain": [
       "[10, 20, 'Anup', 40, 50, 60, 70, 80, 100]"
      ]
     },
     "execution_count": 123,
     "metadata": {},
     "output_type": "execute_result"
    }
   ],
   "source": [
    "number"
   ]
  },
  {
   "cell_type": "code",
   "execution_count": 124,
   "id": "280c90c5",
   "metadata": {},
   "outputs": [
    {
     "data": {
      "text/plain": [
       "['Rakhi', 'Sister', 'brother']"
      ]
     },
     "execution_count": 124,
     "metadata": {},
     "output_type": "execute_result"
    }
   ],
   "source": [
    "my_list"
   ]
  },
  {
   "cell_type": "code",
   "execution_count": 126,
   "id": "4cff828b",
   "metadata": {},
   "outputs": [
    {
     "data": {
      "text/plain": [
       "['Rakhi',\n",
       " 'Sister',\n",
       " 'brother',\n",
       " 'Rakhi',\n",
       " 'Sister',\n",
       " 'brother',\n",
       " 'Rakhi',\n",
       " 'Sister',\n",
       " 'brother']"
      ]
     },
     "execution_count": 126,
     "metadata": {},
     "output_type": "execute_result"
    }
   ],
   "source": [
    "# Repitation of list\n",
    "my_list * 3"
   ]
  },
  {
   "cell_type": "code",
   "execution_count": 127,
   "id": "ced4bdfc",
   "metadata": {},
   "outputs": [
    {
     "data": {
      "text/plain": [
       "['Rakhi', 'Sister', 'brother']"
      ]
     },
     "execution_count": 127,
     "metadata": {},
     "output_type": "execute_result"
    }
   ],
   "source": [
    "my_list"
   ]
  },
  {
   "cell_type": "code",
   "execution_count": 128,
   "id": "f5175b1a",
   "metadata": {},
   "outputs": [
    {
     "data": {
      "text/plain": [
       "[10, 20, 'Anup', 40, 50, 60, 70, 80, 100]"
      ]
     },
     "execution_count": 128,
     "metadata": {},
     "output_type": "execute_result"
    }
   ],
   "source": [
    "number"
   ]
  },
  {
   "cell_type": "code",
   "execution_count": 129,
   "id": "7ba56749",
   "metadata": {},
   "outputs": [],
   "source": [
    "number = [10, 20, 199, 876, 234]"
   ]
  },
  {
   "cell_type": "code",
   "execution_count": 130,
   "id": "47a249fc",
   "metadata": {},
   "outputs": [
    {
     "name": "stdout",
     "output_type": "stream",
     "text": [
      "876\n"
     ]
    }
   ],
   "source": [
    "print(max(number))"
   ]
  },
  {
   "cell_type": "code",
   "execution_count": 131,
   "id": "34a91da7",
   "metadata": {},
   "outputs": [
    {
     "name": "stdout",
     "output_type": "stream",
     "text": [
      "10\n"
     ]
    }
   ],
   "source": [
    "print(min(number))"
   ]
  },
  {
   "cell_type": "code",
   "execution_count": 134,
   "id": "af735e1a",
   "metadata": {},
   "outputs": [],
   "source": [
    "my_list1 = ['DataScience', 'Artificial', 'Intelligence', 'Big Data', 'Mlops']"
   ]
  },
  {
   "cell_type": "code",
   "execution_count": 135,
   "id": "e302a385",
   "metadata": {},
   "outputs": [
    {
     "name": "stdout",
     "output_type": "stream",
     "text": [
      "Mlops\n"
     ]
    }
   ],
   "source": [
    "print(max(my_list1))"
   ]
  },
  {
   "cell_type": "code",
   "execution_count": 136,
   "id": "34f9197e",
   "metadata": {},
   "outputs": [
    {
     "name": "stdout",
     "output_type": "stream",
     "text": [
      "Artificial\n"
     ]
    }
   ],
   "source": [
    "print(min(my_list1))"
   ]
  },
  {
   "cell_type": "code",
   "execution_count": 137,
   "id": "cbf20f99",
   "metadata": {},
   "outputs": [],
   "source": [
    "my_list2 = ['DataScience', 'Artificial',20, 39, 98, 'Intelligence', 'Big Data', 'Mlops']"
   ]
  },
  {
   "cell_type": "code",
   "execution_count": 138,
   "id": "b23ff585",
   "metadata": {},
   "outputs": [
    {
     "ename": "TypeError",
     "evalue": "'>' not supported between instances of 'int' and 'str'",
     "output_type": "error",
     "traceback": [
      "\u001b[0;31m---------------------------------------------------------------------------\u001b[0m",
      "\u001b[0;31mTypeError\u001b[0m                                 Traceback (most recent call last)",
      "Cell \u001b[0;32mIn[138], line 1\u001b[0m\n\u001b[0;32m----> 1\u001b[0m \u001b[38;5;28mprint\u001b[39m(\u001b[38;5;28mmax\u001b[39m(my_list2))\n",
      "\u001b[0;31mTypeError\u001b[0m: '>' not supported between instances of 'int' and 'str'"
     ]
    }
   ],
   "source": [
    "print(max(my_list2))"
   ]
  },
  {
   "cell_type": "code",
   "execution_count": 139,
   "id": "398a67fc",
   "metadata": {},
   "outputs": [
    {
     "data": {
      "text/plain": [
       "[10, 20, 199, 876, 234]"
      ]
     },
     "execution_count": 139,
     "metadata": {},
     "output_type": "execute_result"
    }
   ],
   "source": [
    "number"
   ]
  },
  {
   "cell_type": "code",
   "execution_count": 140,
   "id": "15fe7754",
   "metadata": {
    "scrolled": true
   },
   "outputs": [
    {
     "name": "stdout",
     "output_type": "stream",
     "text": [
      "10\n",
      "20\n",
      "199\n",
      "876\n",
      "234\n"
     ]
    }
   ],
   "source": [
    "for i in number:\n",
    "    print(i)"
   ]
  },
  {
   "cell_type": "code",
   "execution_count": 143,
   "id": "97dd1844",
   "metadata": {},
   "outputs": [
    {
     "name": "stdout",
     "output_type": "stream",
     "text": [
      "10 20 199 876 234 "
     ]
    }
   ],
   "source": [
    "for i in number:\n",
    "    print(i, end = ' ')"
   ]
  },
  {
   "cell_type": "code",
   "execution_count": null,
   "id": "88e35a74",
   "metadata": {},
   "outputs": [],
   "source": []
  },
  {
   "cell_type": "code",
   "execution_count": null,
   "id": "8fac1773",
   "metadata": {},
   "outputs": [],
   "source": []
  },
  {
   "cell_type": "code",
   "execution_count": null,
   "id": "ff5610af",
   "metadata": {},
   "outputs": [],
   "source": []
  },
  {
   "cell_type": "code",
   "execution_count": null,
   "id": "358d6f0a",
   "metadata": {},
   "outputs": [],
   "source": []
  }
 ],
 "metadata": {
  "kernelspec": {
   "display_name": "Python 3 (ipykernel)",
   "language": "python",
   "name": "python3"
  },
  "language_info": {
   "codemirror_mode": {
    "name": "ipython",
    "version": 3
   },
   "file_extension": ".py",
   "mimetype": "text/x-python",
   "name": "python",
   "nbconvert_exporter": "python",
   "pygments_lexer": "ipython3",
   "version": "3.11.4"
  }
 },
 "nbformat": 4,
 "nbformat_minor": 5
}
